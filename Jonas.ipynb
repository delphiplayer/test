{
 "cells": [
  {
   "cell_type": "code",
   "execution_count": null,
   "metadata": {},
   "outputs": [],
   "source": [
    "hit=10\n",
    "life=100\n",
    "\n",
    "def hituje(life,hit):\n",
    "    life=life-hit\n",
    "    return life"
   ]
  },
  {
   "cell_type": "code",
   "execution_count": null,
   "metadata": {},
   "outputs": [],
   "source": [
    "class Man():\n",
    "    def __init__(self, name, life, hit):\n",
    "        self.life=life\n",
    "        self.name=name\n",
    "        self.hit=hit\n",
    "    \n",
    "    def __str__(self):\n",
    "        return 'Man: '+self.name+' (Life: '+str(self.life)+ ')(Hit: '+str(self.hit)+')'\n",
    "    \n",
    "    @property\n",
    "    def IsAlive(self):\n",
    "        if self.life>0:\n",
    "            return True\n",
    "        else:\n",
    "            return False"
   ]
  },
  {
   "cell_type": "code",
   "execution_count": null,
   "metadata": {},
   "outputs": [],
   "source": [
    "chlap1=Man(\"Franta\",100,20)\n",
    "chlap2=Man(\"Jonas\",90,30)\n",
    "#print(chlap1.life)\n",
    "#print(chlap2.life)\n",
    "print(chlap1)\n",
    "print(chlap2)\n",
    "\n",
    "chlap2.life=chlap2.life - chlap1.hit\n",
    "\n",
    "print('*****************')\n",
    "print(chlap1)\n",
    "print(chlap2)\n"
   ]
  },
  {
   "cell_type": "code",
   "execution_count": null,
   "metadata": {},
   "outputs": [],
   "source": [
    "chlap1=Man(\"Franta\",100,20)\n",
    "chlap2=Man(\"Jonas\",90,30)\n",
    "\n",
    "def Boj(hrac1, hrac2):\n",
    "    hrac2.life=hrac2.life - hrac1.hit\n",
    "    print(\"The fight is on ....\")\n",
    "\n",
    "    \n",
    "print(chlap1)\n",
    "print(chlap2)\n",
    "\n",
    "#chlap2.life=chlap2.life - chlap1.hit\n",
    "Boj(chlap1, chlap2)\n",
    "Boj(chlap1, chlap2)\n",
    "Boj(chlap1, chlap2)\n",
    "Boj(chlap1, chlap2)\n",
    "\n",
    "print('*************')\n",
    "print(chlap1)\n",
    "print(chlap2)"
   ]
  },
  {
   "cell_type": "code",
   "execution_count": null,
   "metadata": {},
   "outputs": [],
   "source": [
    "chlap1=Man(\"Franta\",100,20)\n",
    "print(chlap1.IsAlive)"
   ]
  },
  {
   "cell_type": "code",
   "execution_count": null,
   "metadata": {},
   "outputs": [],
   "source": []
  }
 ],
 "metadata": {
  "kernelspec": {
   "display_name": "Python 3",
   "language": "python",
   "name": "python3"
  },
  "language_info": {
   "codemirror_mode": {
    "name": "ipython",
    "version": 3
   },
   "file_extension": ".py",
   "mimetype": "text/x-python",
   "name": "python",
   "nbconvert_exporter": "python",
   "pygments_lexer": "ipython3",
   "version": "3.8.5"
  }
 },
 "nbformat": 4,
 "nbformat_minor": 4
}
